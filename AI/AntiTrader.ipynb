

import pandas_datareader.data as web
from datetime import datetime

#Buy at Open, Sell at Close BOSC
def bosc(stock, shares):
    totalboughtbosc = 0
    totalsoldbosc = 0
    boscstart = shares * stock['Open'][0]
    boscend = stock['Close'][-1]
    bosctotalreturn = 0
    counter = 0

    for i in stock['Open']:
        totalboughtbosc += i
        totalsoldbosc += stock['Close'][counter]
        bosctotalreturn += stock['Close'][counter] - i
        counter+=1
    return [totalboughtbosc, totalsoldbosc,boscstart, bosctotalreturn]

#Buy at Close, Sell at Open BCSO
def bsco(stock, shares):
    totalboughtbcso = 0
    totalsoldbcso = 0
    bcsostart = shares * stock['Open'][0]
    bcsoend = stock['Open'][-1]
    bcsototalreturn = 0
    counter = 0

    for i in stock['Close']:
        totalboughtbcso += i
        totalsoldbcso += stock['Open'][counter]
        bcsototalreturn += i - stock['Open'][counter]
        counter+=1
    return [totalboughtbcso, totalsoldbcso, bcsostart, bcsototalreturn]

#Buy first day, Sell last day BFSL
def bsfl(stock, shares):
    bfslbought = shares * stock['Open'][0]
    bfslsold = shares * stock['Close'][len(stock['Close'])-1]
    bfslreturn = bfslsold - bfslbought
    return [bfslbought, bfslsold, bfslbought, bfslreturn/shares]

#Buy when price is below last bought by 5% and Sell when (To) Price above 5% BSTP
def bstp5(stock, newBudget):
    lastseenprice = stock['Open'][0]
    bstptotalbought = 0
    timesbought = 0
    bstptotalsold = 0
    timessold = 0
    bstptotal = 0
    counter = 0
    budget = newBudget
    shares = 0
    
    for i in stock['Open']:
        #print('Shares: {}\nBudget: {}'.format(shares, budget))
        j = stock['Close'][counter]
        if(i <= (0.95 * lastseenprice) and budget >= i):
            #print("Buy")
            #Buy
            budget -= i
            bstptotalbought += i
            shares += 1
            lastseenprice = i
            timesbought += 1
        if(i >= (1.05 * lastseenprice) and shares > 0):
            #print("Sell")
            #Sell
            budget += i
            bstptotalsold += i
            shares -= 1
            lastseenprice = i
            timessold += 1
        if(j <= (0.95 * lastseenprice) and budget >= j):
            #print("Buy")
            #Buy
            budget -= j
            bstptotalbought += j
            shares += 1
            lastseenprice = j
            timesbought += 1
        if(j >= (1.05 * lastseenprice) and shares > 0):
            #print("Sell")
            #Sell
            budget += j
            bstptotalsold += j
            shares -= 1
            lastseenprice = j
            timessold += 1
    if(timesbought != 0 and timessold != 0):
        return [bstptotalbought/timesbought, bstptotalsold/timessold, stock['Open'][0], (bstptotalsold - bstptotalbought)/timesbought]
    else:
        return [bstptotalbought, bstptotalsold, stock['Open'][0], bstptotalsold - bstptotalbought]

#Buy when price is below last bought by 5% and Sell when (To) Price above 5% BSTP
def bstp25(stock, newBudget):
    lastseenprice = stock['Open'][0]
    bstptotalbought = 0
    timesbought = 0
    bstptotalsold = 0
    timessold = 0
    bstptotal = 0
    counter = 0
    budget = newBudget
    shares = 0
    
    for i in stock['Open']:
        #print('Shares: {}\nBudget: {}'.format(shares, budget))
        j = stock['Close'][counter]
        if(i <= (0.975 * lastseenprice) and budget >= i):
            #print("Buy")
            #Buy
            budget -= i
            bstptotalbought += i
            shares += 1
            lastseenprice = i
            timesbought += 1
        if(i >= (1.025 * lastseenprice) and shares > 0):
            #print("Sell")
            #Sell
            budget += i
            bstptotalsold += i
            shares -= 1
            lastseenprice = i
            timessold += 1
        if(j <= (0.975 * lastseenprice) and budget >= j):
            #print("Buy")
            #Buy
            budget -= j
            bstptotalbought += j
            shares += 1
            lastseenprice = j
            timesbought += 1
        if(j >= (1.025 * lastseenprice) and shares > 0):
            #print("Sell")
            #Sell
            budget += j
            bstptotalsold += j
            shares -= 1
            lastseenprice = j
            timessold += 1
    if(timesbought != 0 and timessold != 0):
        return [bstptotalbought/timesbought, bstptotalsold/timessold, stock['Open'][0], (bstptotalsold - bstptotalbought)/timesbought]
    else:
        return [bstptotalbought, bstptotalsold, stock['Open'][0], bstptotalsold - bstptotalbought]

#Switch between strategies of BOSC, BCSO, BFSL, and BSTP COMBO

#Output all data and compare results

def evaluateShow(symbol, start, end, budget=-1):
    stock = web.DataReader(symbol, 'morningstar', start, end)
    shares = 1
    print("---------------------------------------------------------------------------")
    print("Symbol: {}".format(symbol))
    print("Time Frame: {} to {}".format(start, end))
    print("Starting at {} per share".format(stock['Open'][0]))
    if(budget > 0):
        shares = round(budget / stock['Open'][0], 0)
        print("With a budget of {}, we may purchase {} shares".format(budget, shares))
        bstp5arr = bstp5(stock, budget)
        bstp25arr = bstp25(stock, budget)
    else:
        bstp5arr = bstp5(stock, stock['Open'][0])
        bstp25arr = bstp25(stock, stock['Open'][0])
    boscarr = bosc(stock, shares)
    bcsoarr = bsco(stock, shares)
    bfslarr = bsfl(stock, shares)
    length = len(stock['Open'])
    print("---------------------------------------------------------------------------")
    print("Strategy\t|Avg Bought\t|Avg Sold\t|Return %\t|Return USD")
    print("---------------------------------------------------------------------------")
    print("BOSC\t\t|{}\t\t|{}\t\t|{}\t\t|{}".format(round(boscarr[0]/length, 2), round(boscarr[1]/length, 2),(round(100 * boscarr[3] / boscarr[2], 2)) , round(boscarr[3], 2)))
    print("BCSO\t\t|{}\t\t|{}\t\t|{}\t\t|{}".format(round(bcsoarr[0]/length, 2), round(bcsoarr[1]/length, 2),(round(100 * bcsoarr[3] / bcsoarr[2], 2)) , round(bcsoarr[3], 2)))
    print("BFSL\t\t|{}\t\t|{}\t\t|{}\t\t|{}".format(round(bfslarr[0], 2), round(bfslarr[1], 1),(round(100 * bfslarr[3] / bfslarr[2], 2)) , round(bfslarr[3], 2)))
    print("BSTP 5%\t\t|{}\t\t|{}\t\t|{}\t\t|{}".format(round(bstp5arr[0], 2), round(bstp5arr[1], 1),(round(100 * bstp5arr[3] / bstp5arr[2], 2)) , round(bstp5arr[3], 2)))
    print("BSTP 2.5%\t\t|{}\t\t|{}\t\t|{}\t\t|{}".format(round(bstp25arr[0], 2), round(bstp25arr[1], 1),(round(100 * bstp25arr[3] / bstp25arr[2], 2)) , round(bstp25arr[3], 2)))
    print("---------------------------------------------------------------------------")
    maxret = "";
    retarr = [boscarr[3], bcsoarr[3], bfslarr[3], bstp5arr[3], bstp25arr[3]]
    index = retarr.index(max(retarr))
    if(index == 0):
        maxret = '"Buy Open, Sell Close"'
    elif(index ==1):
        maxret = '"Buy Close, Sell Open"'
    elif(index == 2):
        maxret = '"Hold"'
    elif(index == 3):
        maxret = '"Buying and Selling to Price Fluctuation 5%"'
    elif(index == 4):
        maxret = '"Buying and Selling to Price Fluctuation 2.5%"'
    else:
        maxret = 'Undefined'
    print("The best strategy for {} is {}".format(symbol, maxret))
    print("---------------------------------------------------------------------------")

#Returns best strategy for the stock
def evaluate(symbol, start, end, budget=-1):
    stock = web.DataReader(symbol, 'morningstar', start, end)
    shares = 1
    if(budget > 0):
        shares = round(budget / stock['Open'][0], 0)
        bstparr5 = bstp5(stock, budget)
        bstparr25 = bstp25(stock, budget)
    else:
        bstparr5 = bstp5(stock, stock['Open'][0])
        bstparr25 = bstp25(stock, stock['Open'][0])
    
    boscarr = bosc(stock, shares)
    bcsoarr = bsco(stock, shares)
    bfslarr = bsfl(stock, shares)
    length = len(stock['Open'])
    maxret = "";
    retarr = [boscarr[3], bcsoarr[3], bfslarr[3], bstparr5[3], bstparr25[3]]
    index = retarr.index(max(retarr))
    if(index == 0):
        maxret = '"Buy Open, Sell Close"'
    elif(index ==1):
        maxret = '"Buy Close, Sell Open"'
    elif(index == 2):
        maxret = '"Hold"'
    elif(index == 3):
        maxret = '"Buying and Selling to Price Fluctuation 5%"'
    elif(index == 4):
        maxret = '"Buying and Selling to Price Fluctuation 2.5%"'
    else:
        maxret = 'Undefined'
    return maxret

start = datetime(2014, 4, 20)
end = datetime(2018, 4, 24)

evaluateShow('GOOGL', start, end, 6000)
evaluateShow('AAPL', start, end, 6000)
evaluateShow('YHOO', start, end, 6000)
evaluateShow('LUV', start, end, 6000)
evaluateShow('BA', start, end, 6000)
evaluateShow('FSLR', start, end, 6000)
evaluateShow('VSLR', start, end, 6000)
evaluateShow('SBUX', start, end, 6000)

---------------------------------------------------------------------------
Symbol: GOOGL
Time Frame: 2014-04-20 00:00:00 to 2018-04-24 00:00:00
Starting at 544.0 per share
With a budget of 6000, we may purchase 11.0 shares
---------------------------------------------------------------------------
Strategy	|Avg Bought	|Avg Sold	|Return %	|Return USD
---------------------------------------------------------------------------
BOSC		|762.1		|761.91		|-3.29		|-196.9
BCSO		|761.91		|762.1		|-3.29		|-196.9
BFSL		|5984.0		|11249.0		|8.0		|478.64
BSTP 5%		|506.62		|539.6		|6.06		|32.97
BSTP 2.5%		|514.32		|539.4		|4.61		|25.08
---------------------------------------------------------------------------
The best strategy for GOOGL is "Hold"
---------------------------------------------------------------------------
---------------------------------------------------------------------------
Symbol: AAPL
Time Frame: 2014-04-20 00:00:00 to 2018-04-24 00:00:00
Starting at 75.04 per share
With a budget of 6000, we may purchase 80.0 shares
---------------------------------------------------------------------------
Strategy	|Avg Bought	|Avg Sold	|Return %	|Return USD
---------------------------------------------------------------------------
BOSC		|124.11		|124.13		|0.32		|19.44
BCSO		|124.13		|124.11		|0.32		|19.44
BFSL		|6003.2		|13035.2		|1.46		|87.9
BSTP 5%		|0		|0		|0.0		|0
BSTP 2.5%		|0		|0		|0.0		|0
---------------------------------------------------------------------------
The best strategy for AAPL is "Hold"
---------------------------------------------------------------------------
---------------------------------------------------------------------------
Symbol: YHOO
Time Frame: 2014-04-20 00:00:00 to 2018-04-24 00:00:00
Starting at 36.57 per share
With a budget of 6000, we may purchase 164.0 shares
---------------------------------------------------------------------------
Strategy	|Avg Bought	|Avg Sold	|Return %	|Return USD
---------------------------------------------------------------------------
BOSC		|45.95		|45.95		|-0.02		|-1.25
BCSO		|45.95		|45.95		|-0.02		|-1.25
BFSL		|5997.48		|11358.6		|0.55		|32.69
BSTP 5%		|31.99		|36.4		|12.06		|4.41
BSTP 2.5%		|32.55		|36.4		|10.52		|3.85
---------------------------------------------------------------------------
The best strategy for YHOO is "Hold"
---------------------------------------------------------------------------
---------------------------------------------------------------------------
Symbol: LUV
Time Frame: 2014-04-20 00:00:00 to 2018-04-24 00:00:00
Starting at 23.54 per share
With a budget of 6000, we may purchase 255.0 shares
---------------------------------------------------------------------------
Strategy	|Avg Bought	|Avg Sold	|Return %	|Return USD
---------------------------------------------------------------------------
BOSC		|44.83		|44.83		|0.02		|0.97
BCSO		|44.83		|44.83		|0.02		|0.97
BFSL		|6002.7		|13739.4		|0.51		|30.34
BSTP 5%		|0		|0		|0.0		|0
BSTP 2.5%		|0		|0		|0.0		|0
---------------------------------------------------------------------------
The best strategy for LUV is "Hold"
---------------------------------------------------------------------------
---------------------------------------------------------------------------
Symbol: BA
Time Frame: 2014-04-20 00:00:00 to 2018-04-24 00:00:00
Starting at 128.05 per share
With a budget of 6000, we may purchase 47.0 shares
---------------------------------------------------------------------------
Strategy	|Avg Bought	|Avg Sold	|Return %	|Return USD
---------------------------------------------------------------------------
BOSC		|170.92		|171.01		|1.67		|100.49
BCSO		|171.01		|170.92		|1.67		|100.49
BFSL		|6018.35		|15465.8		|3.34		|201.01
BSTP 5%		|118.12		|127.8		|7.57		|9.7
BSTP 2.5%		|120.55		|127.8		|5.68		|7.27
---------------------------------------------------------------------------
The best strategy for BA is "Hold"
---------------------------------------------------------------------------
---------------------------------------------------------------------------
Symbol: FSLR
Time Frame: 2014-04-20 00:00:00 to 2018-04-24 00:00:00
Starting at 67.31 per share
With a budget of 6000, we may purchase 89.0 shares
---------------------------------------------------------------------------
Strategy	|Avg Bought	|Avg Sold	|Return %	|Return USD
---------------------------------------------------------------------------
BOSC		|52.05		|52.02		|-0.52		|-31.23
BCSO		|52.02		|52.05		|-0.52		|-31.23
BFSL		|5990.59		|6592.2		|0.11		|6.76
BSTP 5%		|47.82		|69.2		|31.77		|21.39
BSTP 2.5%		|48.65		|69.2		|30.54		|20.56
---------------------------------------------------------------------------
The best strategy for FSLR is "Buying and Selling to Price Fluctuation 5%"
---------------------------------------------------------------------------
---------------------------------------------------------------------------
Symbol: VSLR
Time Frame: 2014-04-20 00:00:00 to 2018-04-24 00:00:00
Starting at 17.01 per share
With a budget of 6000, we may purchase 353.0 shares
---------------------------------------------------------------------------
Strategy	|Avg Bought	|Avg Sold	|Return %	|Return USD
---------------------------------------------------------------------------
BOSC		|6.53		|6.51		|-0.36		|-21.88
BCSO		|6.51		|6.53		|-0.36		|-21.88
BFSL		|6004.53		|1359.0		|-0.22		|-13.16
BSTP 5%		|6.4		|16.0		|56.41		|9.59
BSTP 2.5%		|6.43		|16.0		|56.23		|9.57
---------------------------------------------------------------------------
The best strategy for VSLR is "Buying and Selling to Price Fluctuation 5%"
---------------------------------------------------------------------------
---------------------------------------------------------------------------
Symbol: SBUX
Time Frame: 2014-04-20 00:00:00 to 2018-04-24 00:00:00
Starting at 35.14 per share
With a budget of 6000, we may purchase 171.0 shares
---------------------------------------------------------------------------
Strategy	|Avg Bought	|Avg Sold	|Return %	|Return USD
---------------------------------------------------------------------------
BOSC		|52.8		|52.82		|0.3		|17.93
BCSO		|52.82		|52.8		|0.3		|17.93
BFSL		|6008.94		|9885.5		|0.38		|22.67
BSTP 5%		|0		|0		|0.0		|0
BSTP 2.5%		|0		|0		|0.0		|0
---------------------------------------------------------------------------
The best strategy for SBUX is "Hold"
---------------------------------------------------------------------------

#Function to split the time given up into multiple timelines to show how the change in strategies over time
def superEval(symbol, budget=1000):
    #start = datetime(2014, 4, 20)
    #end = datetime(2018, 4, 24)
    #Cycle over many time intervals to find best strategies
    boscans = 0
    bstpans5 = 0
    bstpans25 = 0
    holdans = 0
    bcsoans = 0
    for year in range(2015, 2018):
        for month in range(1, 12):
            for day in range(1, 28):
                ans = evaluate(symbol, datetime(2014, 1, 1), datetime(year, month, day), budget)
                if (ans == '"Buy Open, Sell Close"'):
                    boscans += 1
                elif (ans == '"Buying and Selling to Price Fluctuation 5%"'):
                    bstpans5 += 1
                elif (ans == '"Buying and Selling to Price Fluctuation 2.5%"'):
                    bstpans25 += 1
                elif (ans == '"Hold"'):
                    holdans += 1
                elif (ans == '"Buy Close, Sell Open"'):
                    bcsoans += 1
    print("------------------------------------------")
    print("Evaluation of {} over multiple time intervals:".format(symbol))
    print("------------------------------------------")
    print("Buy Open, Sell Close: {}".format(boscans))
    print("Buy and Sell to Price 5%: {}".format(bstpans5))
    print("Buy and Sell to Price 2.5%: {}".format(bstpans25))
    print("Hold: {}".format(holdans))
    print("Buy Close, Sell Open: {}".format(bcsoans))
    print("------------------------------------------")

superEval('GOOGL')
superEval('AAPL')
superEval('TSLA')
superEval('YHOO')
superEval('LUV')
superEval('BA')
superEval('FSLR')
superEval('SBUX')

